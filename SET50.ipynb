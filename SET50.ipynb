{
 "cells": [
  {
   "cell_type": "markdown",
   "metadata": {},
   "source": [
    "# SET 50"
   ]
  },
  {
   "cell_type": "markdown",
   "metadata": {},
   "source": [
    "https://marketdata.set.or.th/mkt/sectorquotation.do?sector=SET50&language=th&country=TH"
   ]
  },
  {
   "cell_type": "code",
   "execution_count": 39,
   "metadata": {},
   "outputs": [],
   "source": [
    "#!python\n",
    "# -*- coding: utf-8 -*-\n",
    "import os\n",
    "from datetime import date\n",
    "import requests\n",
    "import pandas as pd\n",
    "from bs4 import BeautifulSoup\n",
    "import csv\n",
    "import warnings\n",
    "warnings.filterwarnings('ignore')"
   ]
  },
  {
   "cell_type": "code",
   "execution_count": 40,
   "metadata": {},
   "outputs": [],
   "source": [
    "headers = {\"User-Agent\": \"Mozilla/5.0 (Windows NT 10.0; Win64; x64) AppleWebKit/537.36 (KHTML, like Gecko) Chrome/70.0.3538.77 Safari/537.36\"}\n",
    "url = 'https://marketdata.set.or.th/mkt/sectorquotation.do?sector=SET50&language=th&country=TH'\n",
    "r = requests.get(url, verify=False, headers=headers)\n",
    "r.encoding = \"utf-8\"\n",
    "soup = BeautifulSoup(r.content, 'lxml')"
   ]
  },
  {
   "cell_type": "code",
   "execution_count": 82,
   "metadata": {},
   "outputs": [],
   "source": [
    "table = soup.find_all('table', class_=\"table-info\")[2]\n",
    "thead = table.find_all('thead')\n",
    "tbody = table.tbody\n"
   ]
  },
  {
   "cell_type": "code",
   "execution_count": 83,
   "metadata": {},
   "outputs": [
    {
     "data": {
      "text/plain": [
       "'1:ADVANC,2:AOT,3:AWC,4:BAM,5:BBL,6:BDMS,7:BEM,8:BGRIM,9:BH,10:BJC,11:BTS,12:CBG,13:COM7,14:CPALL,15:CPF,16:CPN,17:CRC,18:DELTA,19:DTAC,20:EA,21:EGCO,22:GLOBAL,23:GPSC,24:GULF,25:HMPRO,26:INTUCH,27:IVL,28:KBANK,29:KTB,30:KTC,31:LH,32:MINT,33:MTC,34:OR,35:OSP,36:PTT,37:PTTEP,38:PTTGC,39:RATCH,40:SAWAD,41:SCB,42:SCC,43:SCGP,44:TISCO,45:TOA,46:TOP,47:TRUE,48:TTB,49:TU,50:VGI,'"
      ]
     },
     "execution_count": 83,
     "metadata": {},
     "output_type": "execute_result"
    }
   ],
   "source": [
    "row_marker = 0\n",
    "i = 1\n",
    "res = \"\"\n",
    "column_marker = 1\n",
    "for row in tbody.find_all('tr'):\n",
    "    \n",
    "    columns0 = row.find_all('td')[0]\n",
    "    columns1 = row.find_all('td')[1]\n",
    "#     columns2 = row.find_all('td')[2]\n",
    "#     columns3 = row.find_all('td')[3]\n",
    "    # REMOVE SPACE , \\N, \\R\n",
    "    str1 = columns0.get_text().replace(\" \",\"\").replace(\"\\n\",\"\").replace(\"\\r\",\"\")\n",
    "    \n",
    "    res +=  str(column_marker) + ':' + str1 + ','\n",
    "    column_marker = column_marker + 1\n",
    "\n",
    "res"
   ]
  },
  {
   "cell_type": "code",
   "execution_count": null,
   "metadata": {},
   "outputs": [],
   "source": []
  },
  {
   "cell_type": "code",
   "execution_count": null,
   "metadata": {},
   "outputs": [],
   "source": []
  },
  {
   "cell_type": "code",
   "execution_count": null,
   "metadata": {},
   "outputs": [],
   "source": []
  },
  {
   "cell_type": "code",
   "execution_count": null,
   "metadata": {},
   "outputs": [],
   "source": []
  }
 ],
 "metadata": {
  "kernelspec": {
   "display_name": "Python 3",
   "language": "python",
   "name": "python3"
  },
  "language_info": {
   "codemirror_mode": {
    "name": "ipython",
    "version": 3
   },
   "file_extension": ".py",
   "mimetype": "text/x-python",
   "name": "python",
   "nbconvert_exporter": "python",
   "pygments_lexer": "ipython3",
   "version": "3.7.4"
  }
 },
 "nbformat": 4,
 "nbformat_minor": 4
}
