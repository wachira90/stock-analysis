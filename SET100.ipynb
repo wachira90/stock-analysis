{
 "cells": [
  {
   "cell_type": "markdown",
   "metadata": {},
   "source": [
    "# SET 100"
   ]
  },
  {
   "cell_type": "markdown",
   "metadata": {},
   "source": [
    "https://marketdata.set.or.th/mkt/sectorquotation.do?sector=SET100&language=th&country=TH"
   ]
  },
  {
   "cell_type": "code",
   "execution_count": 19,
   "metadata": {},
   "outputs": [],
   "source": [
    "#!python\n",
    "# -*- coding: utf-8 -*-\n",
    "import os\n",
    "from datetime import date\n",
    "import requests\n",
    "import pandas as pd\n",
    "from bs4 import BeautifulSoup\n",
    "import csv\n",
    "import warnings\n",
    "warnings.filterwarnings('ignore')"
   ]
  },
  {
   "cell_type": "code",
   "execution_count": 20,
   "metadata": {},
   "outputs": [],
   "source": [
    "headers = {\"User-Agent\": \"Mozilla/5.0 (Windows NT 10.0; Win64; x64) AppleWebKit/537.36 (KHTML, like Gecko) Chrome/70.0.3538.77 Safari/537.36\"}\n",
    "url = 'https://marketdata.set.or.th/mkt/sectorquotation.do?sector=SET100&language=th&country=TH'\n",
    "r = requests.get(url, verify=False, headers=headers)\n",
    "r.encoding = \"utf-8\"\n",
    "soup = BeautifulSoup(r.content, 'lxml')"
   ]
  },
  {
   "cell_type": "code",
   "execution_count": 37,
   "metadata": {},
   "outputs": [
    {
     "data": {
      "text/plain": [
       "'1:ACE,2:ADVANC,3:AEONTS,4:AMATA,5:AOT,6:AP,7:AWC,8:BAM,9:BANPU,10:BBL,11:BCH,12:BCP,13:BCPG,14:BDMS,15:BEC,16:BEM,17:BGRIM,18:BH,19:BJC,20:BPP,21:BTS,22:CBG,23:CENTEL,24:CHG,25:CK,26:CKP,27:COM7,28:CPALL,29:CPF,30:CPN,31:CRC,32:DELTA,33:DOHOME,34:DTAC,35:EA,36:EGCO,37:EPG,38:ESSO,39:GFPT,40:GLOBAL,41:GPSC,42:GULF,43:GUNKUL,44:HANA,45:HMPRO,46:INTUCH,47:IRPC,48:IVL,49:JAS,50:JMART,51:JMT,52:KBANK,53:KCE,54:KKP,55:KTB,56:KTC,57:LH,58:MAJOR,59:MBK,60:MEGA,61:MINT,62:MTC,63:OR,64:ORI,65:OSP,66:PLANB,67:PRM,68:PTG,69:PTT,70:PTTEP,71:PTTGC,72:QH,73:RATCH,74:RBF,75:RS,76:SAWAD,77:SCB,78:SCC,79:SCGP,80:SPALI,81:SPRC,82:STA,83:STEC,84:SUPER,85:TASCO,86:TCAP,87:THANI,88:TISCO,89:TOA,90:TOP,91:TPIPP,92:TQM,93:TRUE,94:TTB,95:TTW,96:TU,97:TVO,98:VGI,99:WHA,100:WHAUP,'"
      ]
     },
     "execution_count": 37,
     "metadata": {},
     "output_type": "execute_result"
    }
   ],
   "source": [
    "table = soup.find_all('table', class_=\"table-info\")[2]\n",
    "thead = table.find_all('thead')\n",
    "tbody = table.tbody\n",
    "\n",
    "\n",
    "row_marker = 0\n",
    "i = 1\n",
    "res = \"\"\n",
    "column_marker = 1\n",
    "for row in tbody.find_all('tr'):\n",
    "    \n",
    "    columns0 = row.find_all('td')[0]\n",
    "    columns1 = row.find_all('td')[1]\n",
    "#     columns2 = row.find_all('td')[2]\n",
    "#     columns3 = row.find_all('td')[3]\n",
    "    str1 = columns0.get_text().replace(\" \",\"\").replace(\"\\n\",\"\").replace(\"\\r\",\"\")\n",
    "    \n",
    "    res +=  str(column_marker) + ':' + str1 + ','\n",
    "    column_marker = column_marker + 1\n",
    "\n",
    "res"
   ]
  },
  {
   "cell_type": "code",
   "execution_count": null,
   "metadata": {},
   "outputs": [],
   "source": []
  },
  {
   "cell_type": "code",
   "execution_count": null,
   "metadata": {},
   "outputs": [],
   "source": []
  },
  {
   "cell_type": "code",
   "execution_count": null,
   "metadata": {},
   "outputs": [],
   "source": []
  },
  {
   "cell_type": "code",
   "execution_count": null,
   "metadata": {},
   "outputs": [],
   "source": []
  },
  {
   "cell_type": "code",
   "execution_count": null,
   "metadata": {},
   "outputs": [],
   "source": []
  },
  {
   "cell_type": "code",
   "execution_count": null,
   "metadata": {},
   "outputs": [],
   "source": []
  },
  {
   "cell_type": "code",
   "execution_count": null,
   "metadata": {},
   "outputs": [],
   "source": []
  }
 ],
 "metadata": {
  "kernelspec": {
   "display_name": "Python 3",
   "language": "python",
   "name": "python3"
  },
  "language_info": {
   "codemirror_mode": {
    "name": "ipython",
    "version": 3
   },
   "file_extension": ".py",
   "mimetype": "text/x-python",
   "name": "python",
   "nbconvert_exporter": "python",
   "pygments_lexer": "ipython3",
   "version": "3.7.4"
  }
 },
 "nbformat": 4,
 "nbformat_minor": 4
}
